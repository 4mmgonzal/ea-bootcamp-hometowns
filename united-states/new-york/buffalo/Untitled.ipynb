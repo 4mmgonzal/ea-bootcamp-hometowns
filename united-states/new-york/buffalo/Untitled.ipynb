{
 "cells": [
  {
   "cell_type": "markdown",
   "id": "87576d3e",
   "metadata": {},
   "source": [
    "# Location\n",
    "latitude and longgitude of the town center below it\n",
    "\n",
    "# Population\n",
    "the information for the most recent population you can find, plus a hyperlink to the source for this information\n",
    "\n",
    "# Landmark\n",
    "add an image and short text description of this landmark"
   ]
  },
  {
   "cell_type": "code",
   "execution_count": null,
   "id": "b32feb86",
   "metadata": {},
   "outputs": [],
   "source": []
  }
 ],
 "metadata": {
  "kernelspec": {
   "display_name": "Python 3 (ipykernel)",
   "language": "python",
   "name": "python3"
  },
  "language_info": {
   "codemirror_mode": {
    "name": "ipython",
    "version": 3
   },
   "file_extension": ".py",
   "mimetype": "text/x-python",
   "name": "python",
   "nbconvert_exporter": "python",
   "pygments_lexer": "ipython3",
   "version": "3.8.13"
  }
 },
 "nbformat": 4,
 "nbformat_minor": 5
}
