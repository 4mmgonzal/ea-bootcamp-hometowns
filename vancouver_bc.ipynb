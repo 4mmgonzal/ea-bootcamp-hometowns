{
 "cells": [
  {
   "cell_type": "markdown",
   "metadata": {},
   "source": [
    "# Vancouver, BC, Canada\n",
    "\n",
    "#### Also known as Van City, Vansterdam, Hollywood North\n",
    "\n",
    "![image]\n",
    "\n",
    "[image]: burrard_st_bridge.jpg\n",
    "\n",
    "\n",
    "- Location: (49°15′N, 123°6′W)\n",
    "- Population\n",
    " - Count > 2.5 million\n",
    " - Density: > 5000 people per square mile\n",
    "\n",
    "| Advantages  | Challenges |\n",
    "|---|---|\n",
    "| High quality of life | High cost of living |\n",
    "| Access to outdoors | Heroin use in Downtown Eastside |\n",
    "| Culturally diverse | Traffic |\n",
    "\n",
    "\n",
    "[_Data Source_](http://worldpopulationreview.com/world-cities/vancouver-population/)\n",
    "\n",
    "[_Image Source_](vancouverwateradventures.com)"
   ]
  },
  {
   "cell_type": "code",
   "execution_count": null,
   "metadata": {},
   "outputs": [],
   "source": []
  }
 ],
 "metadata": {
  "kernelspec": {
   "display_name": "Python 3",
   "language": "python",
   "name": "python3"
  },
  "language_info": {
   "codemirror_mode": {
    "name": "ipython",
    "version": 3
   },
   "file_extension": ".py",
   "mimetype": "text/x-python",
   "name": "python",
   "nbconvert_exporter": "python",
   "pygments_lexer": "ipython3",
   "version": "3.7.3"
  }
 },
 "nbformat": 4,
 "nbformat_minor": 2
}
