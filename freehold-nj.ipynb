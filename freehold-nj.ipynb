{
 "cells": [
  {
   "cell_type": "markdown",
   "metadata": {},
   "source": [
    "## Lat/Long\n",
    "\n",
    "### 40.2599487, -74.2942691"
   ]
  },
  {
   "cell_type": "markdown",
   "metadata": {},
   "source": [
    "## Population Census, [April 1, 2010 is] https://www.census.gov/quickfacts/westfreeholdcdpnewjerseygov (\"6,313\").\n"
   ]
  },
  {
   "cell_type": "code",
   "execution_count": 4,
   "metadata": {},
   "outputs": [
    {
     "ename": "SyntaxError",
     "evalue": "invalid syntax (<ipython-input-4-c99125cddfb8>, line 1)",
     "output_type": "error",
     "traceback": [
      "\u001b[0;36m  File \u001b[0;32m\"<ipython-input-4-c99125cddfb8>\"\u001b[0;36m, line \u001b[0;32m1\u001b[0m\n\u001b[0;31m    <img src=\"https://www.google.com/url?sa=i&source=images&cd=&ved=2ahUKEwjK8ZGmuablAhUETt8KHXtUBSAQjRx6BAgBEAQ&url=http%3A%2F%2Fwww.harnesslink.com%2FNews%2FFreehold-Raceway-gearing-up-to-re-open&psig=AOvVaw1r4Pp2V8og5g43a4rBFWUl&ust=1571510042550502\" alt=\"Freehold Raceway\" title=\"Freehold Raceway\" />\u001b[0m\n\u001b[0m    ^\u001b[0m\n\u001b[0;31mSyntaxError\u001b[0m\u001b[0;31m:\u001b[0m invalid syntax\n"
     ]
    }
   ],
   "source": [
    "<img src=\"https://www.google.com/url?sa=i&source=images&cd=&ved=2ahUKEwjK8ZGmuablAhUETt8KHXtUBSAQjRx6BAgBEAQ&url=http%3A%2F%2Fwww.harnesslink.com%2FNews%2FFreehold-Raceway-gearing-up-to-re-open&psig=AOvVaw1r4Pp2V8og5g43a4rBFWUl&ust=1571510042550502\" alt=\"Freehold Raceway\" title=\"Freehold Raceway\" />"
   ]
  },
  {
   "cell_type": "code",
   "execution_count": null,
   "metadata": {},
   "outputs": [],
   "source": []
  }
 ],
 "metadata": {
  "kernelspec": {
   "display_name": "Python 3",
   "language": "python",
   "name": "python3"
  },
  "language_info": {
   "codemirror_mode": {
    "name": "ipython",
    "version": 3
   },
   "file_extension": ".py",
   "mimetype": "text/x-python",
   "name": "python",
   "nbconvert_exporter": "python",
   "pygments_lexer": "ipython3",
   "version": "3.7.3"
  }
 },
 "nbformat": 4,
 "nbformat_minor": 2
}
