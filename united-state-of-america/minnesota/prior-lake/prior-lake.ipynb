{
 "cells": [
  {
   "cell_type": "code",
   "execution_count": 2,
   "id": "aab57519-3606-420d-af18-de4193ac7ea6",
   "metadata": {},
   "outputs": [
    {
     "name": "stdout",
     "output_type": "stream",
     "text": [
      "plymouth-mn.ipynb\n",
      "prior-lake\n"
     ]
    }
   ],
   "source": [
    "%%bash \n",
    "ls .."
   ]
  },
  {
   "cell_type": "markdown",
   "id": "976423d3-cc3f-44b1-9678-860601d04a3b",
   "metadata": {},
   "source": [
    "# Location \n",
    "44.7133° N, 93.4227° W\n",
    "# Population \n",
    "26,775 according to [world Population Review](https://worldpopulationreview.com/us-cities/prior-lake-mn-population)\n",
    "# Landmark\n",
    "Mystic Lake Casino \n",
    "[image] https://www.google.com/url?sa=i&url=https%3A%2F%2Fshakopeedakota.org%2Fenterprises%2Fmystic-lake-casino-hotel%2F&psig=AOvVaw1_MpwaQFQp_owyAc8aG9-g&ust=1666726489363000&source=images&cd=vfe&ved=0CAkQjRxqFwoTCICEuZXO-foCFQAAAAAdAAAAABAD"
   ]
  }
 ],
 "metadata": {
  "kernelspec": {
   "display_name": "Python 3 (ipykernel)",
   "language": "python",
   "name": "python3"
  },
  "language_info": {
   "codemirror_mode": {
    "name": "ipython",
    "version": 3
   },
   "file_extension": ".py",
   "mimetype": "text/x-python",
   "name": "python",
   "nbconvert_exporter": "python",
   "pygments_lexer": "ipython3",
   "version": "3.9.7"
  }
 },
 "nbformat": 4,
 "nbformat_minor": 5
}
