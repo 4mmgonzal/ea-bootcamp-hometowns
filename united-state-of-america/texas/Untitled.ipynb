{
 "cells": [
  {
   "cell_type": "markdown",
   "metadata": {},
   "source": [
    "## Location <br>\n",
    "\n",
    "<br>\n",
    "## Population <br>\n",
    "*900,000* <br>\n",
    "[Source](link) <br>\n",
    "## Landmark\n",
    "### Placeholder\n",
    "\n",
    "Description\n",
    "\n",
    "![\"The Place\"]()"
   ]
  }
 ],
 "metadata": {
  "kernelspec": {
   "display_name": "Python 3",
   "language": "python",
   "name": "python3"
  },
  "language_info": {
   "codemirror_mode": {
    "name": "ipython",
    "version": 3
   },
   "file_extension": ".py",
   "mimetype": "text/x-python",
   "name": "python",
   "nbconvert_exporter": "python",
   "pygments_lexer": "ipython3",
   "version": "3.8.5"
  }
 },
 "nbformat": 4,
 "nbformat_minor": 4
}
