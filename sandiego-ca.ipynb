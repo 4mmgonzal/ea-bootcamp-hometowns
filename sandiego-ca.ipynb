{
 "cells": [
  {
   "cell_type": "markdown",
   "metadata": {},
   "source": [
    "*add a subtitle (header) and the information for the latitude and longitude of the main area of the town/city\n",
    "*add a subtitle (header) and the information for the most recent population figure you can find, plus a hyperlink to the source for this information\n",
    "*add a subtitle (header) for a local landmark, plus an image and short text description of this landmark"
   ]
  },
  {
   "cell_type": "markdown",
   "metadata": {},
   "source": [
    "## Lat/Long\n",
    "32.715736, -117.161087"
   ]
  },
  {
   "cell_type": "markdown",
   "metadata": {},
   "source": [
    "## Population\n",
    "\n",
    "<a href=\"http://worldpopulationreview.com/us-cities/san-diego-population/\">1,425,976</a>"
   ]
  },
  {
   "cell_type": "raw",
   "metadata": {},
   "source": [
    "## San Diego Air Space Museum\n",
    "![San Diego air space museum](https://www.californiabeaches.com/wp-content/uploads/2016/05/san-diego-air-and-space-museum-balboa-park-bryce-photo-Large-650x347.jpg)"
   ]
  },
  {
   "cell_type": "markdown",
   "metadata": {},
   "source": [
    "## San Diego Air Space Museum \n",
    "![San Diego air space museum](http://sandiegoairandspace.org/img/featured/special_event_inside_1.png)"
   ]
  },
  {
   "cell_type": "markdown",
   "metadata": {},
   "source": [
    "## San Diego Sea World\n",
    "![San Diego sea world](https://seaworld.scdn3.secure.raxcdn.com/san-diego/-/media/seaworld-san-diego/images/animals/dolphins/banners/dolphin_encounter_1900x700.ashx?version=1_201707210008) "
   ]
  },
  {
   "cell_type": "code",
   "execution_count": null,
   "metadata": {},
   "outputs": [],
   "source": []
  }
 ],
 "metadata": {
  "kernelspec": {
   "display_name": "Python 3",
   "language": "python",
   "name": "python3"
  },
  "language_info": {
   "codemirror_mode": {
    "name": "ipython",
    "version": 3
   },
   "file_extension": ".py",
   "mimetype": "text/x-python",
   "name": "python",
   "nbconvert_exporter": "python",
   "pygments_lexer": "ipython3",
   "version": "3.7.3"
  }
 },
 "nbformat": 4,
 "nbformat_minor": 2
}
