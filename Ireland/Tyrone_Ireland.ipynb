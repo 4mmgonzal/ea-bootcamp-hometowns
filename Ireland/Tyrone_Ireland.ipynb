{
 "cells": [
  {
   "cell_type": "markdown",
   "metadata": {},
   "source": [
    "# County Tyrone, Ireland\n",
    "\n",
    "### 54.61°N, -7.16°E\n",
    "\n",
    "### Population: 177,986 (2011) [_Data Source_](https://en.wikipedia.org/wiki/County_Tyrone)\n",
    "\n",
    "### Landmark: Beaghmore Stone Circles\n",
    "![image]\n",
    "\n",
    "\n",
    "[image]: Beaghmore-Stone-Circles.jpg\n",
    "\n",
    "new text here\n",
    "\n",
    "\n",
    "\n",
    "[_Image Source_](http://www.travelwkly.com/wp-content/uploads/2016/12/Science-World.jpghttps://discovernorthernireland.com/things-to-do/beaghmore-stone-circles-p675781)"
   ]
  }
 ],
 "metadata": {
  "kernelspec": {
   "display_name": "Python 3",
   "language": "python",
   "name": "python3"
  },
  "language_info": {
   "codemirror_mode": {
    "name": "ipython",
    "version": 3
   },
   "file_extension": ".py",
   "mimetype": "text/x-python",
   "name": "python",
   "nbconvert_exporter": "python",
   "pygments_lexer": "ipython3",
   "version": "3.7.8"
  }
 },
 "nbformat": 4,
 "nbformat_minor": 4
}
